{
 "cells": [
  {
   "cell_type": "code",
   "execution_count": 60,
   "metadata": {},
   "outputs": [],
   "source": [
    "#import libraries\n",
    "import pandas as pd\n",
    "import quandl\n",
    "import math\n",
    "import numpy as np\n",
    "from sklearn import preprocessing, cross_validation, svm\n",
    "from sklearn.linear_model import LinearRegression\n",
    "import datetime\n",
    "import matplotlib.pyplot as plt\n",
    "from matplotlib import style\n",
    "style.use('ggplot')"
   ]
  },
  {
   "cell_type": "code",
   "execution_count": 61,
   "metadata": {
    "collapsed": true
   },
   "outputs": [],
   "source": [
    "df=quandl.get(\"NSE/TRIDENT\")"
   ]
  },
  {
   "cell_type": "code",
   "execution_count": 62,
   "metadata": {},
   "outputs": [
    {
     "data": {
      "text/html": [
       "<div>\n",
       "<style>\n",
       "    .dataframe thead tr:only-child th {\n",
       "        text-align: right;\n",
       "    }\n",
       "\n",
       "    .dataframe thead th {\n",
       "        text-align: left;\n",
       "    }\n",
       "\n",
       "    .dataframe tbody tr th {\n",
       "        vertical-align: top;\n",
       "    }\n",
       "</style>\n",
       "<table border=\"1\" class=\"dataframe\">\n",
       "  <thead>\n",
       "    <tr style=\"text-align: right;\">\n",
       "      <th></th>\n",
       "      <th>Close</th>\n",
       "      <th>HL_PCT</th>\n",
       "      <th>PCT_change</th>\n",
       "      <th>Total Trade Quantity</th>\n",
       "    </tr>\n",
       "    <tr>\n",
       "      <th>Date</th>\n",
       "      <th></th>\n",
       "      <th></th>\n",
       "      <th></th>\n",
       "      <th></th>\n",
       "    </tr>\n",
       "  </thead>\n",
       "  <tbody>\n",
       "    <tr>\n",
       "      <th>2018-01-11</th>\n",
       "      <td>90.25</td>\n",
       "      <td>2.777778</td>\n",
       "      <td>-0.110681</td>\n",
       "      <td>1076119.0</td>\n",
       "    </tr>\n",
       "    <tr>\n",
       "      <th>2018-01-12</th>\n",
       "      <td>89.35</td>\n",
       "      <td>2.936194</td>\n",
       "      <td>-1.434087</td>\n",
       "      <td>1054346.0</td>\n",
       "    </tr>\n",
       "    <tr>\n",
       "      <th>2018-01-15</th>\n",
       "      <td>90.15</td>\n",
       "      <td>1.728946</td>\n",
       "      <td>0.166667</td>\n",
       "      <td>898119.0</td>\n",
       "    </tr>\n",
       "    <tr>\n",
       "      <th>2018-01-16</th>\n",
       "      <td>87.85</td>\n",
       "      <td>4.641834</td>\n",
       "      <td>-2.928177</td>\n",
       "      <td>986215.0</td>\n",
       "    </tr>\n",
       "    <tr>\n",
       "      <th>2018-01-17</th>\n",
       "      <td>87.05</td>\n",
       "      <td>4.702381</td>\n",
       "      <td>-1.023309</td>\n",
       "      <td>942175.0</td>\n",
       "    </tr>\n",
       "  </tbody>\n",
       "</table>\n",
       "</div>"
      ],
      "text/plain": [
       "            Close    HL_PCT  PCT_change  Total Trade Quantity\n",
       "Date                                                         \n",
       "2018-01-11  90.25  2.777778   -0.110681             1076119.0\n",
       "2018-01-12  89.35  2.936194   -1.434087             1054346.0\n",
       "2018-01-15  90.15  1.728946    0.166667              898119.0\n",
       "2018-01-16  87.85  4.641834   -2.928177              986215.0\n",
       "2018-01-17  87.05  4.702381   -1.023309              942175.0"
      ]
     },
     "execution_count": 62,
     "metadata": {},
     "output_type": "execute_result"
    }
   ],
   "source": [
    "df=df[['Open','High','Low','Close','Total Trade Quantity']]\n",
    "df['HL_PCT']=(df['High']-df['Low'])/df['Low']*100\n",
    "df['PCT_change']=(df['Close']-df['Open'])/df['Open']*100\n",
    "df=df[['Close','HL_PCT','PCT_change','Total Trade Quantity']]\n",
    "df.tail()"
   ]
  },
  {
   "cell_type": "code",
   "execution_count": 63,
   "metadata": {},
   "outputs": [
    {
     "data": {
      "text/plain": [
       "17"
      ]
     },
     "execution_count": 63,
     "metadata": {},
     "output_type": "execute_result"
    }
   ],
   "source": [
    "forecast_col='Close'\n",
    "df.fillna(value=-99999, inplace=True)\n",
    "forecast_out=int(math.ceil(0.01*len(df)))\n",
    "df['Label']=df[forecast_col].shift(-forecast_out)\n",
    "df.dropna(inplace=True)\n",
    "forecast_out"
   ]
  },
  {
   "cell_type": "code",
   "execution_count": 64,
   "metadata": {},
   "outputs": [
    {
     "name": "stdout",
     "output_type": "stream",
     "text": [
      "1650 1650\n"
     ]
    }
   ],
   "source": [
    "x = np.array(df.drop(['Label'],1))\n",
    "x = preprocessing.scale(x)\n",
    "x_lately = x[-forecast_out:]\n",
    "#x = x[:-forecast_out]\n",
    "\n",
    "y=df['Label']\n",
    "y=np.array(y)\n",
    "\n",
    "print(len(x), len(y))"
   ]
  },
  {
   "cell_type": "code",
   "execution_count": 65,
   "metadata": {},
   "outputs": [
    {
     "data": {
      "text/plain": [
       "0.97230526903722703"
      ]
     },
     "execution_count": 65,
     "metadata": {},
     "output_type": "execute_result"
    }
   ],
   "source": [
    "x_train, x_test, y_train, y_test=cross_validation.train_test_split(x, y, test_size=0.2)\n",
    "clf=LinearRegression(n_jobs=-1)\n",
    "clf.fit(x_train, y_train)\n",
    "accuracy=clf.score(x_test, y_test)\n",
    "accuracy"
   ]
  },
  {
   "cell_type": "code",
   "execution_count": 66,
   "metadata": {},
   "outputs": [
    {
     "data": {
      "text/plain": [
       "(array([ 90.9260078 ,  91.12812546,  90.25345182,  88.41502358,\n",
       "         88.86146961,  88.77235806,  89.63481973,  93.47917375,\n",
       "         90.41381745,  88.62519556,  87.76452551,  88.32847878,\n",
       "         88.40373849,  90.7320298 ,  92.3065788 ,  94.18081275,  93.1745121 ]),\n",
       " 0.97230526903722703,\n",
       " 17)"
      ]
     },
     "execution_count": 66,
     "metadata": {},
     "output_type": "execute_result"
    }
   ],
   "source": [
    "forecast_set=clf.predict(x_lately)\n",
    "forecast_set, accuracy, forecast_out"
   ]
  },
  {
   "cell_type": "code",
   "execution_count": 67,
   "metadata": {
    "collapsed": true
   },
   "outputs": [],
   "source": [
    "df['forecast']=np.nan\n",
    "last_date=df.iloc[-1].name\n",
    "last_unix=last_date.timestamp()\n",
    "one_day=86400\n",
    "next_unix=last_unix+one_day"
   ]
  },
  {
   "cell_type": "code",
   "execution_count": 68,
   "metadata": {},
   "outputs": [],
   "source": [
    "for i in forecast_set:\n",
    "    next_date = datetime.datetime.fromtimestamp(next_unix)\n",
    "    next_unix += 86400\n",
    "    df.loc[next_date] = [np.nan for _ in range(len(df.columns)-1)]+[i]"
   ]
  },
  {
   "cell_type": "code",
   "execution_count": 69,
   "metadata": {},
   "outputs": [
    {
     "data": {
      "image/png": "[encoded data removed]",
      "text/plain": [
       "<matplotlib.figure.Figure at 0x22fb9da8240>"
      ]
     },
     "metadata": {},
     "output_type": "display_data"
    }
   ],
   "source": [
    "df['Close'].plot()\n",
    "df['forecast'].plot()\n",
    "plt.legend(loc=4)\n",
    "plt.xlabel('Date')\n",
    "plt.ylabel('Price')\n",
    "plt.show()"
   ]
  }
 ],
 "metadata": {
  "kernelspec": {
   "display_name": "Python 3",
   "language": "python",
   "name": "python3"
  },
  "language_info": {
   "codemirror_mode": {
    "name": "ipython",
    "version": 3
   },
   "file_extension": ".py",
   "mimetype": "text/x-python",
   "name": "python",
   "nbconvert_exporter": "python",
   "pygments_lexer": "ipython3",
   "version": "3.6.3"
  }
 },
 "nbformat": 4,
 "nbformat_minor": 2
}
