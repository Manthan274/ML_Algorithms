{
 "cells": [
  {
   "cell_type": "code",
   "execution_count": 102,
   "metadata": {},
   "outputs": [
    {
     "name": "stdout",
     "output_type": "stream",
     "text": [
      "0.321459414641\n"
     ]
    },
    {
     "data": {
      "image/png": "[encoded data removed]",
      "text/plain": [
       "<matplotlib.figure.Figure at 0x1dfb0f50748>"
      ]
     },
     "metadata": {},
     "output_type": "display_data"
    }
   ],
   "source": [
    "from statistics import mean\n",
    "import numpy as np\n",
    "import matplotlib.pyplot as plt\n",
    "from matplotlib import style\n",
    "import random\n",
    "%matplotlib inline\n",
    "style.use('ggplot')\n",
    "\n",
    "#x = np.array([1,2,3,4,5, 6], dtype=np.float64)\n",
    "#y = np.array([5,4,6,5,6, 7], dtype=np.float64)\n",
    "\n",
    "def create_dataset(hm, variance, step=2, correlation=False):\n",
    "    val=1\n",
    "    y=[]\n",
    "    for i in range(hm):\n",
    "        ys=val+random.randrange(-variance, variance)\n",
    "        y.append(ys)\n",
    "        if correlation and correlation == 'pos':\n",
    "            val+=step\n",
    "        elif correlation and  correlation == 'neg':\n",
    "            val-=step\n",
    "    x=[i for i in range(len(y))]\n",
    "    return np.array(x, dtype=np.float64), np.array(y, dtype=np.float64)\n",
    "\n",
    "def best_fit_slope_intercept(x, y):\n",
    "    m=(((mean(x)*mean(y)) - mean(x*y))/\n",
    "       ((mean(x)*mean(x)) - mean(x*x)))\n",
    "    b= mean(y) - m*mean(x)\n",
    "    return m, b\n",
    "\n",
    "def squared_error(y_orig, y_line):\n",
    "    return sum((y_line - y_orig) * (y_line - y_orig))\n",
    "\n",
    "def COD(y_orig, y_line):\n",
    "    y_mean_line = [mean(y_orig) for y in y_orig]\n",
    "    squared_error_reg = squared_error(y_orig, y_line)\n",
    "    squared_error_mean = squared_error(y_orig, y_mean_line)\n",
    "    return 1 - (squared_error_reg / squared_error_mean)\n",
    "\n",
    "x, y=create_dataset(40, 80, 2, correlation='pos')\n",
    "\n",
    "m, b = best_fit_slope_intercept(x, y)\n",
    "\n",
    "regression_line=[(m*t)+b for t in x]\n",
    "\n",
    "r_squared=COD(y, regression_line)\n",
    "\n",
    "print(r_squared)\n",
    "plt.scatter(x, y)\n",
    "plt.plot(x, regression_line)\n",
    "plt.show()"
   ]
  },
  {
   "cell_type": "code",
   "execution_count": null,
   "metadata": {
    "collapsed": true
   },
   "outputs": [],
   "source": []
  },
  {
   "cell_type": "code",
   "execution_count": null,
   "metadata": {
    "collapsed": true
   },
   "outputs": [],
   "source": []
  }
 ],
 "metadata": {
  "kernelspec": {
   "display_name": "Python 3",
   "language": "python",
   "name": "python3"
  },
  "language_info": {
   "codemirror_mode": {
    "name": "ipython",
    "version": 3
   },
   "file_extension": ".py",
   "mimetype": "text/x-python",
   "name": "python",
   "nbconvert_exporter": "python",
   "pygments_lexer": "ipython3",
   "version": "3.6.3"
  }
 },
 "nbformat": 4,
 "nbformat_minor": 2
}
